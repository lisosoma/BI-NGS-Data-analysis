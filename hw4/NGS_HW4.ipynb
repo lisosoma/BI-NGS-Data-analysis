{
 "cells": [
  {
   "cell_type": "code",
   "execution_count": 27,
   "id": "a106f282",
   "metadata": {},
   "outputs": [],
   "source": [
    "!gunzip ecoli_400K_err_1.fastq.gz\n",
    "!gunzip ecoli_400K_err_2.fastq.gz"
   ]
  },
  {
   "cell_type": "markdown",
   "id": "c242028a",
   "metadata": {},
   "source": [
    "### 1. Оценка качества исправления ошибок\n",
    "Исправить риды с помощью любой программы, и приложив исправленные и исходные риды к геному, оценить следующие значения:\n",
    "\n",
    "Undetected error (false negative)\n",
    "\n",
    "Detected & corrected error (true positive)\n",
    "\n",
    "Detected and removed error (true positive)\n",
    "\n",
    "Falsely corrected error (false positive)\n",
    "\n",
    "Correctly unmodified base (true negative)\n",
    "\n",
    "Incorrectly removed base (false positive)"
   ]
  },
  {
   "cell_type": "markdown",
   "id": "4892246c",
   "metadata": {},
   "source": [
    "Исправим риды с помощью `trimmomatic`. Возьмем риды с качеством не ниже 35."
   ]
  },
  {
   "cell_type": "code",
   "execution_count": 36,
   "id": "be014121",
   "metadata": {},
   "outputs": [
    {
     "name": "stdout",
     "output_type": "stream",
     "text": [
      "TrimmomaticPE: Started with arguments:\n",
      " ecoli_400K_err_1.fastq ecoli_400K_err_2.fastq output_forward_paired.fq.gz output_forward_unpaired.fq.gz output_reverse_paired.fq output_reverse_unpaired.fq LEADING:35 TRAILING:35\n",
      "Quality encoding detected as phred33\n",
      "Input Read Pairs: 1381602 Both Surviving: 1365886 (98,86%) Forward Only Surviving: 11888 (0,86%) Reverse Only Surviving: 2824 (0,20%) Dropped: 1004 (0,07%)\n",
      "TrimmomaticPE: Completed successfully\n"
     ]
    }
   ],
   "source": [
    "!java -jar trimmomatic-0.39.jar PE ecoli_400K_err_1.fastq ecoli_400K_err_2.fastq output_forward_paired.fq.gz output_forward_unpaired.fq.gz output_reverse_paired.fq output_reverse_unpaired.fq LEADING:35 TRAILING:35"
   ]
  },
  {
   "cell_type": "markdown",
   "id": "f9354ab9",
   "metadata": {},
   "source": [
    "Исправим риды с помощью `SPAdes`"
   ]
  },
  {
   "cell_type": "code",
   "execution_count": 55,
   "id": "8c94bc6e",
   "metadata": {},
   "outputs": [],
   "source": [
    "!gunzip ecoli_400K_err_1.00.0_0.cor.fastq.gz\n",
    "!gunzip ecoli_400K_err_2.00.0_0.cor.fastq.gz"
   ]
  },
  {
   "cell_type": "code",
   "execution_count": null,
   "id": "0f3d45a0",
   "metadata": {},
   "outputs": [],
   "source": [
    "!./spades.py --only-error-correction --pe1-1 ecoli_400K_err_1.fastq --pe1-2 ecoli_400K_err_2.fastq --only-error-correсtion -o DATA"
   ]
  },
  {
   "cell_type": "code",
   "execution_count": 62,
   "id": "63443441",
   "metadata": {},
   "outputs": [],
   "source": [
    "!gunzip ecoli_400K_err_2.fastq.00.0_0.cor.fastq.gz"
   ]
  },
  {
   "cell_type": "code",
   "execution_count": 38,
   "id": "d8cdc931",
   "metadata": {},
   "outputs": [],
   "source": [
    "!bwa index MG1655-K12.first400K.fasta > /dev/null 2>&1\n",
    "!bwa mem MG1655-K12.first400K.fasta ecoli_400K_err_1.fastq 1> alignment1.sam 2> /dev/null\n",
    "!bwa mem MG1655-K12.first400K.fasta output_forward_paired.fq 1> alignment2.sam 2> /dev/null"
   ]
  },
  {
   "cell_type": "code",
   "execution_count": 37,
   "id": "c09fe5dc",
   "metadata": {},
   "outputs": [],
   "source": [
    "!gunzip output_forward_paired.fq.gz "
   ]
  },
  {
   "cell_type": "code",
   "execution_count": 56,
   "id": "20038288",
   "metadata": {},
   "outputs": [],
   "source": [
    "!bwa mem MG1655-K12.first400K.fasta ecoli_400K_err_1.00.0_0.cor.fastq 1> alignment3.sam 2> /dev/null"
   ]
  },
  {
   "cell_type": "code",
   "execution_count": 63,
   "id": "7091ed60",
   "metadata": {},
   "outputs": [],
   "source": [
    "!bwa mem MG1655-K12.first400K.fasta ecoli_400K_err_2.00.0_0.cor.fastq 1> alignment4.sam 2> /dev/null"
   ]
  },
  {
   "cell_type": "code",
   "execution_count": 39,
   "id": "aaa03e27",
   "metadata": {},
   "outputs": [
    {
     "name": "stdout",
     "output_type": "stream",
     "text": [
      "1381602 + 0 in total (QC-passed reads + QC-failed reads)\r\n",
      "0 + 0 secondary\r\n",
      "0 + 0 supplementary\r\n",
      "0 + 0 duplicates\r\n",
      "1378283 + 0 mapped (99.76% : N/A)\r\n",
      "0 + 0 paired in sequencing\r\n",
      "0 + 0 read1\r\n",
      "0 + 0 read2\r\n",
      "0 + 0 properly paired (N/A : N/A)\r\n",
      "0 + 0 with itself and mate mapped\r\n",
      "0 + 0 singletons (N/A : N/A)\r\n",
      "0 + 0 with mate mapped to a different chr\r\n",
      "0 + 0 with mate mapped to a different chr (mapQ>=5)\r\n"
     ]
    }
   ],
   "source": [
    "!samtools flagstat alignment1.sam"
   ]
  },
  {
   "cell_type": "code",
   "execution_count": 40,
   "id": "a65c7c5d",
   "metadata": {},
   "outputs": [
    {
     "name": "stdout",
     "output_type": "stream",
     "text": [
      "1365886 + 0 in total (QC-passed reads + QC-failed reads)\r\n",
      "0 + 0 secondary\r\n",
      "0 + 0 supplementary\r\n",
      "0 + 0 duplicates\r\n",
      "1344357 + 0 mapped (98.42% : N/A)\r\n",
      "0 + 0 paired in sequencing\r\n",
      "0 + 0 read1\r\n",
      "0 + 0 read2\r\n",
      "0 + 0 properly paired (N/A : N/A)\r\n",
      "0 + 0 with itself and mate mapped\r\n",
      "0 + 0 singletons (N/A : N/A)\r\n",
      "0 + 0 with mate mapped to a different chr\r\n",
      "0 + 0 with mate mapped to a different chr (mapQ>=5)\r\n"
     ]
    }
   ],
   "source": [
    "!samtools flagstat alignment2.sam"
   ]
  },
  {
   "cell_type": "code",
   "execution_count": 61,
   "id": "30833d37",
   "metadata": {},
   "outputs": [
    {
     "name": "stdout",
     "output_type": "stream",
     "text": [
      "1374807 + 0 in total (QC-passed reads + QC-failed reads)\r\n",
      "0 + 0 secondary\r\n",
      "0 + 0 supplementary\r\n",
      "0 + 0 duplicates\r\n",
      "1367303 + 0 mapped (99.45% : N/A)\r\n",
      "0 + 0 paired in sequencing\r\n",
      "0 + 0 read1\r\n",
      "0 + 0 read2\r\n",
      "0 + 0 properly paired (N/A : N/A)\r\n",
      "0 + 0 with itself and mate mapped\r\n",
      "0 + 0 singletons (N/A : N/A)\r\n",
      "0 + 0 with mate mapped to a different chr\r\n",
      "0 + 0 with mate mapped to a different chr (mapQ>=5)\r\n"
     ]
    }
   ],
   "source": [
    "!samtools flagstat alignment3.sam"
   ]
  },
  {
   "cell_type": "markdown",
   "id": "28459848",
   "metadata": {},
   "source": [
    "Для подсчета ошибок будем смотреть на каждую позицию в референсе и выравненные на нее позиции в ридах: в сырых данных и в исправленных.\n",
    "\n",
    "Далее, если и в сырых данных, и в исправленных один и тот же нуклеотид и при этом он не совпадает с нуклеотидом из референса, то это *Undetected error*.\n",
    "\n",
    "Если в сырых данных нуклеотид не равен нуклеотиду в референсе, но при этом в исправленных данных равен нуклеотиду в референсе, то это *Detected & corrected error*.\n",
    "\n",
    "Если в исправленных данных нуклеотид отсутствует и отстутсвует в референсе, но при этом есть в сырых данных, то это *Detected and removed error*, если же в исправленных данных нуклеотид отсутствует, но при этом есть в сырых данных и в референсе, то это *Incorrectly removed base*.\n",
    "\n",
    "Если в сырых данных нуклеотид совпадает с референсом, но в исправленных не совпадает, то это *Falsely corrected error*.\n",
    "\n",
    "И наконец, если в сырых данных нуклеотид совпадает с референсом и совпадает с нуклеотидом в исправленных данных, то это *Correctly unmodified base*."
   ]
  },
  {
   "cell_type": "code",
   "execution_count": 41,
   "id": "4181f9cf",
   "metadata": {},
   "outputs": [],
   "source": [
    "!samtools view -S -b alignment1.sam > alignment1.bam\n",
    "!samtools sort alignment1.bam > aligment1_sorted.bam\n",
    "!samtools index aligment1_sorted.bam"
   ]
  },
  {
   "cell_type": "code",
   "execution_count": 42,
   "id": "93d092c1",
   "metadata": {},
   "outputs": [],
   "source": [
    "!samtools view -S -b alignment2.sam > alignment2.bam\n",
    "!samtools sort alignment2.bam > aligment2_sorted.bam\n",
    "!samtools index aligment2_sorted.bam"
   ]
  },
  {
   "cell_type": "code",
   "execution_count": 3,
   "id": "33a8f6c6",
   "metadata": {},
   "outputs": [],
   "source": [
    "import pysam\n",
    "from Bio import SeqIO\n",
    "from tqdm import tqdm"
   ]
  },
  {
   "cell_type": "markdown",
   "id": "a0f56b66",
   "metadata": {},
   "source": [
    "Сначала посчитаем ошибки в ридах, исправленных с помощью `trimmomatic`"
   ]
  },
  {
   "cell_type": "code",
   "execution_count": 6,
   "id": "f08b69d8",
   "metadata": {},
   "outputs": [],
   "source": [
    "align_raw = pysam.AlignmentFile('aligment1_sorted.bam')\n",
    "align_corr = pysam.AlignmentFile('aligment2_sorted.bam')\n",
    "reference = SeqIO.read('MG1655-K12.first400K.fasta', 'fasta')"
   ]
  },
  {
   "cell_type": "markdown",
   "id": "5cfa174b",
   "metadata": {},
   "source": [
    "В словаре `errors` будем хранить типы ошибок и их количество"
   ]
  },
  {
   "cell_type": "code",
   "execution_count": 11,
   "id": "36a8568b",
   "metadata": {},
   "outputs": [],
   "source": [
    "def errors_counter(align_raw, align_corr, reference):\n",
    "    \n",
    "    errors = {'Undetected errors' : 0,\n",
    "          'Detected & corrected errors' : 0,\n",
    "          'Detected and removed errors' : 0,\n",
    "          'Incorrectly removed bases' : 0,\n",
    "          'Falsely corrected errors' : 0,\n",
    "          'Correctly unmodified bases' : 0\n",
    "         }\n",
    "\n",
    "    for alig1, alig2 in tqdm(zip(align_corr.pileup(), align_raw.pileup())):\n",
    "        \n",
    "        ref_nucl = reference[alig2.reference_pos]\n",
    "        reads = {}\n",
    "\n",
    "        for corr in alig1.pileups:\n",
    "            \n",
    "            if corr.query_position is not None:\n",
    "                reads[corr.alignment.query_name] = corr.alignment.query_sequence[corr.query_position]\n",
    "            \n",
    "            else:\n",
    "                reads[corr.alignment.query_name] = ''\n",
    "\n",
    "        for raw in alig2.pileups:\n",
    "            \n",
    "            if raw.alignment.query_name in reads:\n",
    "                \n",
    "                if raw.query_position:\n",
    "                    \n",
    "                    raw_nucl  = raw.alignment.query_sequence[raw.query_position]\n",
    "                    corr_nucl = reads[raw.alignment.query_name]\n",
    "                    \n",
    "                    if (raw_nucl == corr_nucl) and (corr_nucl != ref_nucl):\n",
    "                        errors['Undetected errors'] += 1\n",
    "\n",
    "                    if (raw_nucl == ref_nucl) and (corr_nucl != ref_nucl):\n",
    "                        errors['Falsely corrected errors'] += 1\n",
    "\n",
    "                    if (raw_nucl != ref_nucl) and (corr_nucl == ref_nucl):\n",
    "                        errors['Detected & corrected errors'] += 1\n",
    "\n",
    "                    if (raw_nucl == ref_nucl) and (corr_nucl == ref_nucl):\n",
    "                        errors['Correctly unmodified bases'] += 1\n",
    "            else:\n",
    "                if raw.query_position:\n",
    "                    \n",
    "                    raw_nucl  = raw.alignment.query_sequence[raw.query_position]\n",
    "                    \n",
    "                    if (raw_nucl == ref_nucl):\n",
    "                        errors['Incorrectly removed bases'] += 1\n",
    "                        \n",
    "                    else:\n",
    "                        errors['Detected and removed errors'] += 1\n",
    "\n",
    "    return errors"
   ]
  },
  {
   "cell_type": "code",
   "execution_count": 17,
   "id": "5dc85dd7",
   "metadata": {},
   "outputs": [
    {
     "name": "stderr",
     "output_type": "stream",
     "text": [
      "399999it [17:56, 371.64it/s]\n"
     ]
    }
   ],
   "source": [
    "error_trimm = errors_counter(align_raw, align_corr, reference)"
   ]
  },
  {
   "cell_type": "code",
   "execution_count": 18,
   "id": "3c43ceaf",
   "metadata": {},
   "outputs": [
    {
     "data": {
      "text/plain": [
       "{'Undetected errors': 116967,\n",
       " 'Detected & corrected errors': 33,\n",
       " 'Detected and removed errors': 50509,\n",
       " 'Incorrectly removed bases': 8077242,\n",
       " 'Falsely corrected errors': 36,\n",
       " 'Correctly unmodified bases': 116414658}"
      ]
     },
     "execution_count": 18,
     "metadata": {},
     "output_type": "execute_result"
    }
   ],
   "source": [
    "error_trimm"
   ]
  },
  {
   "cell_type": "markdown",
   "id": "b11dc47f",
   "metadata": {},
   "source": [
    "Теперь посчитаем ошибки в исправлениях, сделанных с помощью `SPAdes`"
   ]
  },
  {
   "cell_type": "code",
   "execution_count": 57,
   "id": "b67b7b66",
   "metadata": {},
   "outputs": [],
   "source": [
    "!samtools view -S -b alignment3.sam > alignment3.bam\n",
    "!samtools sort alignment3.bam > aligment3_sorted.bam\n",
    "!samtools index aligment3_sorted.bam"
   ]
  },
  {
   "cell_type": "code",
   "execution_count": 14,
   "id": "85ab099f",
   "metadata": {},
   "outputs": [],
   "source": [
    "align_corr_spades = pysam.AlignmentFile('aligment3_sorted.bam')"
   ]
  },
  {
   "cell_type": "code",
   "execution_count": 15,
   "id": "8a1d39c5",
   "metadata": {},
   "outputs": [
    {
     "name": "stderr",
     "output_type": "stream",
     "text": [
      "399999it [17:42, 376.51it/s]\n"
     ]
    }
   ],
   "source": [
    "error_spades = errors_counter(align_raw, align_corr_spades, reference)"
   ]
  },
  {
   "cell_type": "code",
   "execution_count": 16,
   "id": "2d2bb36a",
   "metadata": {},
   "outputs": [
    {
     "data": {
      "text/plain": [
       "{'Undetected errors': 55895,\n",
       " 'Detected & corrected errors': 100202,\n",
       " 'Detected and removed errors': 11327,\n",
       " 'Incorrectly removed bases': 1507573,\n",
       " 'Falsely corrected errors': 82,\n",
       " 'Correctly unmodified bases': 122984281}"
      ]
     },
     "execution_count": 16,
     "metadata": {},
     "output_type": "execute_result"
    }
   ],
   "source": [
    "error_spades"
   ]
  },
  {
   "cell_type": "code",
   "execution_count": 64,
   "id": "c1027a07",
   "metadata": {},
   "outputs": [],
   "source": [
    "!samtools view -S -b alignment4.sam > alignment4.bam\n",
    "!samtools sort alignment4.bam > aligment4_sorted.bam\n",
    "!samtools index aligment4_sorted.bam"
   ]
  },
  {
   "cell_type": "code",
   "execution_count": 65,
   "id": "9b0d4955",
   "metadata": {},
   "outputs": [],
   "source": [
    "align_corr_spades2 = pysam.AlignmentFile('aligment4_sorted.bam')"
   ]
  },
  {
   "cell_type": "code",
   "execution_count": 66,
   "id": "9631a260",
   "metadata": {},
   "outputs": [
    {
     "name": "stderr",
     "output_type": "stream",
     "text": [
      "399999it [36:14, 183.92it/s]\n"
     ]
    }
   ],
   "source": [
    "error_spades2 = errors_counter(align_raw, align_corr_spades2, reference)"
   ]
  },
  {
   "cell_type": "code",
   "execution_count": 67,
   "id": "f679629c",
   "metadata": {},
   "outputs": [
    {
     "data": {
      "text/plain": [
       "{'Undetected errors': 126638,\n",
       " 'Detected & corrected errors': 176,\n",
       " 'Detected and removed errors': 91021812,\n",
       " 'Incorrectly removed bases': 33463161,\n",
       " 'Falsely corrected errors': 204,\n",
       " 'Correctly unmodified bases': 47096}"
      ]
     },
     "execution_count": 67,
     "metadata": {},
     "output_type": "execute_result"
    }
   ],
   "source": [
    "error_spades2 "
   ]
  },
  {
   "cell_type": "markdown",
   "id": "13561a0a",
   "metadata": {},
   "source": [
    "Как видно, у `trimmomatic` гораздо больше ошибок типа  *Incorrectly removed bases*, поскольку исправления заключались лишь в удалении участков в отличие от `SPAdes`"
   ]
  }
 ],
 "metadata": {
  "kernelspec": {
   "display_name": "Python 3 (ipykernel)",
   "language": "python",
   "name": "python3"
  },
  "language_info": {
   "codemirror_mode": {
    "name": "ipython",
    "version": 3
   },
   "file_extension": ".py",
   "mimetype": "text/x-python",
   "name": "python",
   "nbconvert_exporter": "python",
   "pygments_lexer": "ipython3",
   "version": "3.8.10"
  }
 },
 "nbformat": 4,
 "nbformat_minor": 5
}
